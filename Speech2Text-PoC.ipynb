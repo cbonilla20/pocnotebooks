{
 "cells": [
  {
   "cell_type": "code",
   "execution_count": null,
   "metadata": {},
   "outputs": [],
   "source": [
    "import speech_recognition as sr\n"
   ]
  },
  {
   "cell_type": "code",
   "execution_count": null,
   "metadata": {},
   "outputs": [],
   "source": [
    "class ModelVoice2Text(object):\n",
    "    def __init__(self, input_type='mic',input_file=None, recording_limit=10):\n",
    "        self.recognizer = sr.Recognizer()\n",
    "        if input_type == 'mic':\n",
    "            self.microphone = sr.Microphone()\n",
    "            self.audiofile = None\n",
    "        else:\n",
    "            self.filepath = input_file\n",
    "            self.audiofile = sr.AudioFile(self.filepath)\n",
    "        self.response = None\n",
    "        self.recording_timeout = recording_limit\n",
    "        #self.soundfile = sf\n",
    "        #self.sounddevice = sd\n",
    "        \n",
    "        \n",
    "    def reconocer_desde_mic(self):\n",
    "        \"\"\"Transcribe speech from recorded from `microphone`.\n",
    "\n",
    "        Returns a dictionary with three keys:\n",
    "        \"success\": a boolean indicating whether or not the API request was\n",
    "                   successful\n",
    "        \"error\":   `None` if no error occured, otherwise a string containing\n",
    "                   an error message if the API could not be reached or\n",
    "                   speech was unrecognizable\n",
    "        \"transcription\": `None` if speech could not be transcribed,\n",
    "                   otherwise a string containing the transcribed text\n",
    "        \"\"\"\n",
    "        # check that recognizer and microphone arguments are appropriate type\n",
    "        if not isinstance(self.recognizer, sr.Recognizer):\n",
    "            raise TypeError(\"`recognizer` must be `Recognizer` instance\")\n",
    "\n",
    "        if not isinstance(self.microphone, sr.Microphone):\n",
    "            raise TypeError(\"`microphone` must be `Microphone` instance\")\n",
    "\n",
    "        # adjust the recognizer sensitivity to ambient noise and record audio\n",
    "        # from the microphone\n",
    "        with self.microphone as source:\n",
    "            print('Comience a hablar')\n",
    "            self.recognizer.adjust_for_ambient_noise(source)\n",
    "            audio = self.recognizer.listen(source)\n",
    "\n",
    "        # set up the response object\n",
    "        self.response = {\n",
    "            \"success\": True,\n",
    "            \"error\": None,\n",
    "            \"transcription\": None\n",
    "        }\n",
    "\n",
    "        # try recognizing the speech in the recording\n",
    "        # if a RequestError or UnknownValueError exception is caught,\n",
    "        #     update the response object accordingly\n",
    "        try:\n",
    "            self.response[\"transcription\"] = self.recognizer.recognize_google(audio, language='es-AR')\n",
    "            #response[\"transcription\"] = self.recognizer.recognize_wit(audio#)\n",
    "        except sr.RequestError:\n",
    "            # API was unreachable or unresponsive\n",
    "            self.response[\"success\"] = False\n",
    "            self.response[\"error\"] = \"API unavailable\"\n",
    "        except sr.UnknownValueError:\n",
    "            # speech was unintelligible\n",
    "            self.response[\"error\"] = \"Unable to recognize speech\"\n",
    "\n",
    "        return self.response\n",
    "\n",
    "\n",
    "    def reconocer_desde_wav(self):\n",
    "        \"\"\"Transcribe speech from recorded from `microphone`.\n",
    "\n",
    "        Returns a dictionary with three keys:\n",
    "        \"success\": a boolean indicating whether or not the API request was\n",
    "                   successful\n",
    "        \"error\":   `None` if no error occured, otherwise a string containing\n",
    "                   an error message if the API could not be reached or\n",
    "                   speech was unrecognizable\n",
    "        \"transcription\": `None` if speech could not be transcribed,\n",
    "                   otherwise a string containing the transcribed text\n",
    "        \"\"\"\n",
    "        # check that recognizer and microphone arguments are appropriate type\n",
    "        if not isinstance(self.recognizer, sr.Recognizer):\n",
    "            raise TypeError(\"`recognizer` must be `Recognizer` instance\")\n",
    "\n",
    "        if not isinstance(self.audiofile, sr.AudioFile):\n",
    "            raise TypeError(\"`microphone` must be `Microphone` instance\")\n",
    "\n",
    "        # adjust the recognizer sensitivity to ambient noise and record audio\n",
    "        # from the microphone\n",
    "        print('Escuchando audio {}...'.format(self.filepath))\n",
    "        self.escuchar_audio(self.filepath)\n",
    "        with self.audiofile as source:\n",
    "            self.recognizer.adjust_for_ambient_noise(source)\n",
    "            audio = self.recognizer.record(source)\n",
    "\n",
    "        # set up the response object\n",
    "        self.response = {\n",
    "            \"success\": True,\n",
    "            \"error\": None,\n",
    "            \"transcription\": None\n",
    "        }\n",
    "\n",
    "        # try recognizing the speech in the recording\n",
    "        # if a RequestError or UnknownValueError exception is caught,\n",
    "        #     update the response object accordingly\n",
    "        try:\n",
    "            self.response[\"transcription\"] = self.recognizer.recognize_google(audio, language='es-AR')\n",
    "            #self.response[\"transcription\"] = self.recognizer.recognize_wit(audio, key='5YWGEQ6XHUUYCG6ZOVHOSIVJYT2MYGJW')\n",
    "        except sr.RequestError:\n",
    "            # API was unreachable or unresponsive\n",
    "            self.response[\"success\"] = False\n",
    "            self.response[\"error\"] = \"API unavailable\"\n",
    "        except sr.UnknownValueError:\n",
    "            # speech was unintelligible\n",
    "            self.response[\"error\"] = \"Unable to recognize speech\"\n",
    "\n",
    "        return self.response\n",
    "    \n",
    "    def grabar_nuevo_audio(self, filename='audiotest.wav'):\n",
    "        \n",
    "        with  self.microphone as source:\n",
    "            print(\"Hable!\")\n",
    "            self.recognizer.adjust_for_ambient_noise(source)\n",
    "            audio =  self.recognizer.listen(source, phrase_time_limit=self.recording_timeout)\n",
    "            \n",
    "        # write audio to a WAV file\n",
    "        with open(filename, \"wb\") as f:\n",
    "            f.write(audio.get_wav_data())\n",
    "        f.close()\n",
    "        \n",
    "    def escuchar_audio(self, filename='audiotest.wav'):\n",
    "        try:\n",
    "            import sounddevice as sd\n",
    "            import soundfile as sf\n",
    "            data, fs = sf.read(filename, dtype='float32')\n",
    "            sd.play(data, fs)\n",
    "            status = sd.wait()\n",
    "            if status:\n",
    "                parser.exit('Error during playback: ' + str(status))\n",
    "        except KeyboardInterrupt:\n",
    "            parser.exit('\\nInterrupted by user')\n",
    "        except Exception as e:\n",
    "            parser.exit(type(e).__name__ + ': ' + str(e))"
   ]
  },
  {
   "cell_type": "markdown",
   "metadata": {},
   "source": [
    "## Prueba de documento de voz desde archivo 1:\n",
    "\n",
    "El texto leído es: Esto es una prueba básica para entender la funcionalidad de voz a texto"
   ]
  },
  {
   "cell_type": "code",
   "execution_count": 78,
   "metadata": {
    "scrolled": true
   },
   "outputs": [
    {
     "name": "stdout",
     "output_type": "stream",
     "text": [
      "Escuchando audio audiotest1.wav...\n",
      "El texto detectado del microfono es: prueba básica para entender la funcionalidad de voz a texto\n"
     ]
    }
   ],
   "source": [
    "modelo_v2t = ModelVoice2Text(input_type='file', input_file='audiotest1.wav')\n",
    "response = modelo_v2t.reconocer_desde_wav()\n",
    "print('El texto detectado del microfono es: {response}'.format(response=response[\"transcription\"]))"
   ]
  },
  {
   "cell_type": "markdown",
   "metadata": {},
   "source": [
    "## Prueba de documento de voz desde archivo 2:\n",
    "\n",
    "El texto leído es: Lanús está al sur de la ciudad de Buenos Aires"
   ]
  },
  {
   "cell_type": "code",
   "execution_count": 82,
   "metadata": {},
   "outputs": [
    {
     "name": "stdout",
     "output_type": "stream",
     "text": [
      "Escuchando audio audiotest2.wav...\n",
      "El texto detectado del microfono es: está al sur de la Ciudad de Buenos Aires\n"
     ]
    }
   ],
   "source": [
    "modelo_v2t = ModelVoice2Text(input_type='file', input_file='audiotest2.wav')\n",
    "response = modelo_v2t.reconocer_desde_wav()\n",
    "print('El texto detectado del microfono es: {response}'.format(response=response[\"transcription\"]))"
   ]
  },
  {
   "cell_type": "markdown",
   "metadata": {},
   "source": [
    "## Prueba de documento de voz desde archivo 3:\n",
    "\n",
    "El texto leído es: La policía tiene un nuevo caso que atender en la comisaría 39"
   ]
  },
  {
   "cell_type": "code",
   "execution_count": 80,
   "metadata": {},
   "outputs": [
    {
     "name": "stdout",
     "output_type": "stream",
     "text": [
      "Escuchando audio audiotest3.wav...\n",
      "El texto detectado del microfono es: La policía tiene un nuevo caso que atender en la comisaría 39\n"
     ]
    }
   ],
   "source": [
    "modelo_v2t = ModelVoice2Text(input_type='file', input_file='audiotest3.wav')\n",
    "response = modelo_v2t.reconocer_desde_wav()\n",
    "print('El texto detectado del microfono es: {response}'.format(response=response[\"transcription\"]))"
   ]
  },
  {
   "cell_type": "markdown",
   "metadata": {},
   "source": [
    "## Prueba de documento de voz desde archivo 4:\n",
    "\n",
    "El texto leído es: Emergencia por choque entre el cruce de calles 25 de mayo y 2 de mayo"
   ]
  },
  {
   "cell_type": "code",
   "execution_count": 81,
   "metadata": {},
   "outputs": [
    {
     "name": "stdout",
     "output_type": "stream",
     "text": [
      "Escuchando audio audiotest4.wav...\n",
      "El texto detectado del microfono es: emergencia por choque entre el cruce de calles 25 de mayo y 2 de mayo\n"
     ]
    }
   ],
   "source": [
    "modelo_v2t = ModelVoice2Text(input_type='file', input_file='audiotest4.wav')\n",
    "response = modelo_v2t.reconocer_desde_wav()\n",
    "print('El texto detectado del microfono es: {response}'.format(response=response[\"transcription\"]))"
   ]
  },
  {
   "cell_type": "markdown",
   "metadata": {},
   "source": [
    "## Grabar audio a archivo usando Speech Recognition"
   ]
  },
  {
   "cell_type": "code",
   "execution_count": null,
   "metadata": {},
   "outputs": [],
   "source": [
    "modelo_v2t = ModelVoice2Text(input_type='mic')\n",
    "modelo_v2t.grabar_nuevo_audio(filename='audiotest33.wav')"
   ]
  },
  {
   "cell_type": "markdown",
   "metadata": {},
   "source": [
    "## Escuchar audio desde archivo .wav"
   ]
  },
  {
   "cell_type": "code",
   "execution_count": null,
   "metadata": {},
   "outputs": [],
   "source": [
    "#modelo_v2t = ModelVoice2Text(input_type='file', input_file='audiotest1.wav')\n",
    "#modelo_v2t.escuchar_audio(filename='audiotest1.wav')"
   ]
  },
  {
   "cell_type": "markdown",
   "metadata": {},
   "source": [
    "## Reconocimiento de voz desde el micrófono a texto:\n",
    "\n",
    "Puede hablar hasta que se detecte silencio"
   ]
  },
  {
   "cell_type": "code",
   "execution_count": null,
   "metadata": {},
   "outputs": [],
   "source": [
    "#modelo_v2t = ModelVoice2Text(input_type='mic')\n",
    "#response = modelo_v2t.reconocer_desde_mic()\n",
    "#print('El texto detectado del microfono es: {response}'.format(response=response[\"transcription\"]))\n",
    "#print(response)"
   ]
  }
 ],
 "metadata": {
  "kernelspec": {
   "display_name": "Python 3",
   "language": "python",
   "name": "python3"
  },
  "language_info": {
   "codemirror_mode": {
    "name": "ipython",
    "version": 3
   },
   "file_extension": ".py",
   "mimetype": "text/x-python",
   "name": "python",
   "nbconvert_exporter": "python",
   "pygments_lexer": "ipython3",
   "version": "3.7.3"
  }
 },
 "nbformat": 4,
 "nbformat_minor": 2
}
